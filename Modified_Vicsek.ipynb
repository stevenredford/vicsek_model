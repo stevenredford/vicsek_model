{
 "cells": [
  {
   "cell_type": "code",
   "execution_count": 1,
   "metadata": {},
   "outputs": [],
   "source": [
    "import numpy as np\n",
    "import matplotlib.pyplot as plt\n",
    "import matplotlib.animation as animation\n",
    "import os"
   ]
  },
  {
   "cell_type": "code",
   "execution_count": 2,
   "metadata": {},
   "outputs": [],
   "source": [
    "name = '111921_one_neg_1_rand_r0_L_15_big_v_small_dt_gaussian_vel/'\n",
    "save_path = '/Users/stevenredford/vicsek_data/' + name\n",
    "os.mkdir(save_path)"
   ]
  },
  {
   "cell_type": "code",
   "execution_count": 3,
   "metadata": {},
   "outputs": [],
   "source": [
    "def update_rt(rt,st,dt,v0,L):\n",
    "    rdt = rt + dt*v0[:,None]*st\n",
    "    return np.mod(rdt,L)\n",
    "\n",
    "def update_st(rt,st,A,N,vr):\n",
    "    #update the heading si based on weighted neighbor interactions\n",
    "    \n",
    "    new_s = np.zeros((N,2))\n",
    "    \n",
    "    for ii in range(N):\n",
    "        \n",
    "        temp_theta = thetat\n",
    "        \n",
    "        r = rt[ii,:]\n",
    "        si = st[ii,:]\n",
    "        Ai = A[ii]\n",
    "        #the current position, heading and species for the particle of interest\n",
    "        \n",
    "        centered = np.mod(rt - r[None,:],L)\n",
    "        thetai = thetat[ii]\n",
    "        d = np.sqrt(np.square(centered[:,0]) + np.square(centered[:,1]))\n",
    "        #computing distances to the particle of interest\n",
    "        \n",
    "        ses = st[d < R0,:]\n",
    "        Aes = A[d < R0]\n",
    "        dists = d[d < R0]\n",
    "        #disregard particles that are too far away\n",
    "        \n",
    "        weight = Ai*Aes/(np.abs(Ai*Aes) + dists)\n",
    "        \n",
    "        big_vec = np.sum(si[None,:] + weight[:,None]*ses,axis = 0)\n",
    "        theta = np.mod(np.arctan2(big_vec[1],big_vec[0]) + np.random.normal(scale = vr),2*np.pi)\n",
    "        \n",
    "        \n",
    "        new_s[ii,0] = np.cos(theta)\n",
    "        new_s[ii,1] = np.sin(theta)\n",
    "        \n",
    "    return new_s    "
   ]
  },
  {
   "cell_type": "code",
   "execution_count": 4,
   "metadata": {},
   "outputs": [
    {
     "name": "stdout",
     "output_type": "stream",
     "text": [
      "ready to go\n"
     ]
    }
   ],
   "source": [
    "\"\"\"\n",
    "The parameters of the simulation box and system size\n",
    "\"\"\"\n",
    "L = 100\n",
    "#dimension of the square box\n",
    "\n",
    "rho = 0.32\n",
    "#density of particles in u^-2\n",
    "\n",
    "vr = 0.1\n",
    "#the standard deviation of the normal noise on the orientation \n",
    "\n",
    "N = np.int(L*L*rho)\n",
    "#number of particles\n",
    "\"\"\"\n",
    "\"\"\"\n",
    "\n",
    "\"\"\"\n",
    "Dynamical quantities\n",
    "\"\"\"\n",
    "tfinal = 10000\n",
    "dt = 1\n",
    "\n",
    "R0 = L/15\n",
    "#the neighborhood dimension\n",
    "\n",
    "#v0 = np.ones(N)/10\n",
    "v0 = np.random.normal(1,0.3,N)/100\n",
    "#random initial velocities\n",
    "    \n",
    "\"\"\"\n",
    "\"\"\"\n",
    "\n",
    "\"\"\"\n",
    "Initial condition\n",
    "\"\"\"\n",
    "thetat = 2*np.pi*np.random.rand(N)\n",
    "\n",
    "rt = np.zeros((N,2))\n",
    "rt[:,0] = L*np.random.rand(N)\n",
    "rt[:,1] = L*np.random.rand(N)\n",
    "\n",
    "#A = np.ones((N,N))\n",
    "\n",
    "A = np.round(np.random.rand(N))*2 - 1\n",
    "        \n",
    "st = np.zeros((N,2))\n",
    "st[:,0] = np.cos(thetat)\n",
    "st[:,1] = np.sin(thetat)\n",
    "\n",
    "\"\"\"\n",
    "\"\"\"\n",
    "\n",
    "\"\"\"\n",
    "Storage and visualization\n",
    "\"\"\"\n",
    "vis = True\n",
    "vis_period = 500\n",
    "\"\"\"\n",
    "\"\"\"\n",
    "\n",
    "print(\"ready to go\")"
   ]
  },
  {
   "cell_type": "code",
   "execution_count": 5,
   "metadata": {},
   "outputs": [
    {
     "ename": "KeyboardInterrupt",
     "evalue": "",
     "output_type": "error",
     "traceback": [
      "\u001b[0;31m---------------------------------------------------------------------------\u001b[0m",
      "\u001b[0;31mKeyboardInterrupt\u001b[0m                         Traceback (most recent call last)",
      "\u001b[0;32m<ipython-input-5-702e7f4099ac>\u001b[0m in \u001b[0;36m<module>\u001b[0;34m\u001b[0m\n\u001b[1;32m     31\u001b[0m \u001b[0;34m\u001b[0m\u001b[0m\n\u001b[1;32m     32\u001b[0m     \u001b[0mrtdt\u001b[0m \u001b[0;34m=\u001b[0m \u001b[0mupdate_rt\u001b[0m\u001b[0;34m(\u001b[0m\u001b[0mrt\u001b[0m\u001b[0;34m,\u001b[0m\u001b[0mst\u001b[0m\u001b[0;34m,\u001b[0m\u001b[0mdt\u001b[0m\u001b[0;34m,\u001b[0m\u001b[0mv0\u001b[0m\u001b[0;34m,\u001b[0m\u001b[0mL\u001b[0m\u001b[0;34m)\u001b[0m\u001b[0;34m\u001b[0m\u001b[0;34m\u001b[0m\u001b[0m\n\u001b[0;32m---> 33\u001b[0;31m     \u001b[0mstdt\u001b[0m \u001b[0;34m=\u001b[0m \u001b[0mupdate_st\u001b[0m\u001b[0;34m(\u001b[0m\u001b[0mrt\u001b[0m\u001b[0;34m,\u001b[0m\u001b[0mst\u001b[0m\u001b[0;34m,\u001b[0m\u001b[0mA\u001b[0m\u001b[0;34m,\u001b[0m\u001b[0mN\u001b[0m\u001b[0;34m,\u001b[0m\u001b[0mvr\u001b[0m\u001b[0;34m)\u001b[0m\u001b[0;34m\u001b[0m\u001b[0;34m\u001b[0m\u001b[0m\n\u001b[0m\u001b[1;32m     34\u001b[0m     \u001b[0;31m#advance the positions and orientations forward dt\u001b[0m\u001b[0;34m\u001b[0m\u001b[0;34m\u001b[0m\u001b[0;34m\u001b[0m\u001b[0m\n\u001b[1;32m     35\u001b[0m \u001b[0;34m\u001b[0m\u001b[0m\n",
      "\u001b[0;32m<ipython-input-3-3340360ecf91>\u001b[0m in \u001b[0;36mupdate_st\u001b[0;34m(rt, st, A, N, vr)\u001b[0m\n\u001b[1;32m     17\u001b[0m         \u001b[0;31m#the current position, heading and species for the particle of interest\u001b[0m\u001b[0;34m\u001b[0m\u001b[0;34m\u001b[0m\u001b[0;34m\u001b[0m\u001b[0m\n\u001b[1;32m     18\u001b[0m \u001b[0;34m\u001b[0m\u001b[0m\n\u001b[0;32m---> 19\u001b[0;31m         \u001b[0mcentered\u001b[0m \u001b[0;34m=\u001b[0m \u001b[0mnp\u001b[0m\u001b[0;34m.\u001b[0m\u001b[0mmod\u001b[0m\u001b[0;34m(\u001b[0m\u001b[0mrt\u001b[0m \u001b[0;34m-\u001b[0m \u001b[0mr\u001b[0m\u001b[0;34m[\u001b[0m\u001b[0;32mNone\u001b[0m\u001b[0;34m,\u001b[0m\u001b[0;34m:\u001b[0m\u001b[0;34m]\u001b[0m\u001b[0;34m,\u001b[0m\u001b[0mL\u001b[0m\u001b[0;34m)\u001b[0m\u001b[0;34m\u001b[0m\u001b[0;34m\u001b[0m\u001b[0m\n\u001b[0m\u001b[1;32m     20\u001b[0m         \u001b[0mthetai\u001b[0m \u001b[0;34m=\u001b[0m \u001b[0mthetat\u001b[0m\u001b[0;34m[\u001b[0m\u001b[0mii\u001b[0m\u001b[0;34m]\u001b[0m\u001b[0;34m\u001b[0m\u001b[0;34m\u001b[0m\u001b[0m\n\u001b[1;32m     21\u001b[0m         \u001b[0md\u001b[0m \u001b[0;34m=\u001b[0m \u001b[0mnp\u001b[0m\u001b[0;34m.\u001b[0m\u001b[0msqrt\u001b[0m\u001b[0;34m(\u001b[0m\u001b[0mnp\u001b[0m\u001b[0;34m.\u001b[0m\u001b[0msquare\u001b[0m\u001b[0;34m(\u001b[0m\u001b[0mcentered\u001b[0m\u001b[0;34m[\u001b[0m\u001b[0;34m:\u001b[0m\u001b[0;34m,\u001b[0m\u001b[0;36m0\u001b[0m\u001b[0;34m]\u001b[0m\u001b[0;34m)\u001b[0m \u001b[0;34m+\u001b[0m \u001b[0mnp\u001b[0m\u001b[0;34m.\u001b[0m\u001b[0msquare\u001b[0m\u001b[0;34m(\u001b[0m\u001b[0mcentered\u001b[0m\u001b[0;34m[\u001b[0m\u001b[0;34m:\u001b[0m\u001b[0;34m,\u001b[0m\u001b[0;36m1\u001b[0m\u001b[0;34m]\u001b[0m\u001b[0;34m)\u001b[0m\u001b[0;34m)\u001b[0m\u001b[0;34m\u001b[0m\u001b[0;34m\u001b[0m\u001b[0m\n",
      "\u001b[0;31mKeyboardInterrupt\u001b[0m: "
     ]
    },
    {
     "data": {
      "text/plain": [
       "<Figure size 432x288 with 0 Axes>"
      ]
     },
     "metadata": {},
     "output_type": "display_data"
    }
   ],
   "source": [
    "\"\"\"\n",
    "Run the actual simulation\n",
    "\"\"\"\n",
    "\n",
    "\n",
    "ims = []\n",
    "\n",
    "for tt in range(0,tfinal,dt):\n",
    "    \n",
    "    if vis & (tt%vis_period == 0):\n",
    "        \n",
    "        ax = plt.axes()\n",
    "        \n",
    "        for uu in range(N):\n",
    "            if A[uu] > 0:\n",
    "                col = 'k'\n",
    "            else:\n",
    "                col = 'r'\n",
    "            x,y = rt[uu,:]\n",
    "            u,v = st[uu,:]\n",
    "            ax.arrow(x,y,u,v,color = col)\n",
    "        \n",
    "        #plt.quiver(rt,st, color = 'k')\n",
    "        #ax.scatter(rt[:,0],rt[:,1],c = 'k')\n",
    "        plt.axis('off')\n",
    "        plt.axis('equal')\n",
    "        plt.xlim([0,L])\n",
    "        plt.ylim([0,L])\n",
    "        plt.savefig(save_path + 'frame_%s.png' %tt)\n",
    "        plt.clf()\n",
    "    \n",
    "    rtdt = update_rt(rt,st,dt,v0,L)\n",
    "    stdt = update_st(rt,st,A,N,vr)\n",
    "    #advance the positions and orientations forward dt\n",
    "     \n",
    "    rt = rtdt\n",
    "    st = stdt\n",
    "\n",
    "\n",
    "#ani = animation.ArtistAnimation(fig, ims, interval=50, blit=True, repeat_delay=1000)\n",
    "\n",
    "print('Done :D')"
   ]
  },
  {
   "cell_type": "code",
   "execution_count": null,
   "metadata": {},
   "outputs": [],
   "source": [
    "#animate the movie\n"
   ]
  }
 ],
 "metadata": {
  "kernelspec": {
   "display_name": "Python 3",
   "language": "python",
   "name": "python3"
  },
  "language_info": {
   "codemirror_mode": {
    "name": "ipython",
    "version": 3
   },
   "file_extension": ".py",
   "mimetype": "text/x-python",
   "name": "python",
   "nbconvert_exporter": "python",
   "pygments_lexer": "ipython3",
   "version": "3.7.6"
  }
 },
 "nbformat": 4,
 "nbformat_minor": 4
}
